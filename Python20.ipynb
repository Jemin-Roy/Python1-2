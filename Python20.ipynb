{
  "nbformat": 4,
  "nbformat_minor": 0,
  "metadata": {
    "colab": {
      "provenance": []
    },
    "kernelspec": {
      "name": "python3",
      "display_name": "Python 3"
    },
    "language_info": {
      "name": "python"
    }
  },
  "cells": [
    {
      "cell_type": "code",
      "execution_count": 19,
      "metadata": {
        "colab": {
          "base_uri": "https://localhost:8080/",
          "height": 193
        },
        "id": "YxW7xhM8TGkM",
        "outputId": "aa3c845d-77eb-47b9-bbf6-8d2e7905e861"
      },
      "outputs": [
        {
          "name": "stdout",
          "output_type": "stream",
          "text": [
            "Enter the stringwar\n"
          ]
        },
        {
          "output_type": "error",
          "ename": "AttributeError",
          "evalue": "'list' object has no attribute 'counter'",
          "traceback": [
            "\u001b[0;31m---------------------------------------------------------------------------\u001b[0m",
            "\u001b[0;31mAttributeError\u001b[0m                            Traceback (most recent call last)",
            "\u001b[0;32m<ipython-input-19-5ab849ecb4af>\u001b[0m in \u001b[0;36m<cell line: 8>\u001b[0;34m()\u001b[0m\n\u001b[1;32m      6\u001b[0m \u001b[0mstring\u001b[0m\u001b[0;34m=\u001b[0m\u001b[0;34m(\u001b[0m\u001b[0minput\u001b[0m\u001b[0;34m(\u001b[0m\u001b[0;34m'Enter the string'\u001b[0m\u001b[0;34m)\u001b[0m\u001b[0;34m)\u001b[0m\u001b[0;34m\u001b[0m\u001b[0;34m\u001b[0m\u001b[0m\n\u001b[1;32m      7\u001b[0m \u001b[0mlist1\u001b[0m\u001b[0;34m.\u001b[0m\u001b[0mappend\u001b[0m\u001b[0;34m(\u001b[0m\u001b[0mstring\u001b[0m\u001b[0;34m)\u001b[0m\u001b[0;34m\u001b[0m\u001b[0;34m\u001b[0m\u001b[0m\n\u001b[0;32m----> 8\u001b[0;31m \u001b[0mlist1\u001b[0m\u001b[0;34m.\u001b[0m\u001b[0mcounter\u001b[0m\u001b[0;34m(\u001b[0m\u001b[0mstring\u001b[0m\u001b[0;34m)\u001b[0m\u001b[0;34m\u001b[0m\u001b[0;34m\u001b[0m\u001b[0m\n\u001b[0m",
            "\u001b[0;31mAttributeError\u001b[0m: 'list' object has no attribute 'counter'"
          ]
        }
      ],
      "source": [
        "import pandas as pd\n",
        "import numpy as np\n",
        "import math\n",
        "\n",
        "list1=[]\n",
        "string=(input('Enter the string'))\n",
        "list1.append(string)\n",
        "list1.count(string)"
      ]
    },
    {
      "cell_type": "markdown",
      "source": [
        ". Write a Python function to find the maximum of three numbers"
      ],
      "metadata": {
        "id": "zmBAz_T0Wu16"
      }
    },
    {
      "cell_type": "code",
      "source": [
        "list2=[]\n",
        "num=int(input('Enter the limit'))\n",
        "for i in range(1,num+1):\n",
        "  values=int(input('Enter the values:'))\n",
        "  list2.append(values)\n",
        "print('The largest number is:',max(list2))"
      ],
      "metadata": {
        "colab": {
          "base_uri": "https://localhost:8080/"
        },
        "id": "4cRsy64EV4W6",
        "outputId": "751ff307-b869-474e-e5e8-471d4aaa3cbb"
      },
      "execution_count": 10,
      "outputs": [
        {
          "output_type": "stream",
          "name": "stdout",
          "text": [
            "Enter the limit3\n",
            "Enter the values:12\n",
            "Enter the values:37\n",
            "Enter the values:4\n",
            "The largest number is: 37\n"
          ]
        }
      ]
    },
    {
      "cell_type": "markdown",
      "source": [
        "Write a Python function called exponent(base,exp) that returns an integer value of base raises to the power of exp"
      ],
      "metadata": {
        "id": "Kce7hxzcYd0B"
      }
    },
    {
      "cell_type": "code",
      "source": [
        "def exponent(base,exp):\n",
        "  out=num**exp\n",
        "  print(out)\n",
        "num=int(input('Enter the number'))\n",
        "exp=int(input('enter the exponent'))\n",
        "print(exponent(num,exp))"
      ],
      "metadata": {
        "colab": {
          "base_uri": "https://localhost:8080/"
        },
        "id": "gmNNZM_gX7p_",
        "outputId": "20a40375-afec-4db5-83e7-5dedc5128082"
      },
      "execution_count": 21,
      "outputs": [
        {
          "output_type": "stream",
          "name": "stdout",
          "text": [
            "Enter the number2\n",
            "enter the exponent4\n",
            "16\n",
            "None\n"
          ]
        }
      ]
    },
    {
      "cell_type": "markdown",
      "source": [
        "Write a Python function that takes a positive integer and returns the sum of the cube of all the positive integers smaller than the specified number"
      ],
      "metadata": {
        "id": "D-5YMgZ5cnas"
      }
    },
    {
      "cell_type": "code",
      "source": [
        "def integer(n):\n",
        "  sum=0\n",
        "  for i in range(1,num):\n",
        "    j=i**3\n",
        "    sum=sum+j\n",
        "  print(sum)\n",
        "num=int(input('enter a number'))\n",
        "print(integer(num))\n"
      ],
      "metadata": {
        "colab": {
          "base_uri": "https://localhost:8080/"
        },
        "id": "zU0GwwDkcRlu",
        "outputId": "1ffabd0c-be5b-4842-ca24-2687352ba572"
      },
      "execution_count": 24,
      "outputs": [
        {
          "output_type": "stream",
          "name": "stdout",
          "text": [
            "enter a number4\n",
            "36\n",
            "None\n"
          ]
        }
      ]
    },
    {
      "cell_type": "markdown",
      "source": [
        "5. Write a Python program which iterates from 1 to 10. For multiples of 2, print “Fizz” instead of the number and for the multiples of 5, print “Buzz”. For numbers which are multiples of both 2 and 5, print “FizzBuzz”."
      ],
      "metadata": {
        "id": "vLpqYZMjdziZ"
      }
    },
    {
      "cell_type": "code",
      "source": [
        "for i in range(1,11):\n",
        "  if(((i%2==0)&(i%5==0))):\n",
        "    print('fizzbuzz')\n",
        "  elif(i%2==0):\n",
        "      print('fizz')\n",
        "  elif(i%5==0):\n",
        "        print('buzz')\n",
        "  else:\n",
        "          print(i)"
      ],
      "metadata": {
        "colab": {
          "base_uri": "https://localhost:8080/"
        },
        "id": "P6U0_VQSdVap",
        "outputId": "a77dc39c-8c3b-4b78-a2ba-988fc846ab4f"
      },
      "execution_count": 26,
      "outputs": [
        {
          "output_type": "stream",
          "name": "stdout",
          "text": [
            "1\n",
            "fizz\n",
            "3\n",
            "fizz\n",
            "buzz\n",
            "fizz\n",
            "7\n",
            "fizz\n",
            "9\n",
            "fizzbuzz\n"
          ]
        }
      ]
    },
    {
      "cell_type": "markdown",
      "source": [
        "8. Write a Python program using for loop that will iterate from 1 to 15. For each iteration, check if the current number is odd or even, and display the message to the screen as odd or even"
      ],
      "metadata": {
        "id": "0GSoUylBezLR"
      }
    },
    {
      "cell_type": "code",
      "source": [
        "for i in range(1,16):\n",
        "  if(i%2==0):\n",
        "    print(i,'-even')\n",
        "  else:\n",
        "      print(i,'-odd')"
      ],
      "metadata": {
        "colab": {
          "base_uri": "https://localhost:8080/"
        },
        "id": "2wVYe_Diejf9",
        "outputId": "217bad69-df12-4b2a-af30-317c9047e0d1"
      },
      "execution_count": 28,
      "outputs": [
        {
          "output_type": "stream",
          "name": "stdout",
          "text": [
            "1 -odd\n",
            "2 -even\n",
            "3 -odd\n",
            "4 -even\n",
            "5 -odd\n",
            "6 -even\n",
            "7 -odd\n",
            "8 -even\n",
            "9 -odd\n",
            "10 -even\n",
            "11 -odd\n",
            "12 -even\n",
            "13 -odd\n",
            "14 -even\n",
            "15 -odd\n"
          ]
        }
      ]
    },
    {
      "cell_type": "code",
      "source": [
        "10.Write a Python function to calculate the factorial of a number (a\n",
        "nonnegative integer). The function accepts the number as an argument."
      ],
      "metadata": {
        "id": "NlD0j6vyfNEg"
      },
      "execution_count": null,
      "outputs": []
    },
    {
      "cell_type": "code",
      "source": [
        "def fact(n):\n",
        "  for i in range(1,n):\n",
        "      g=i*(i+1)\n",
        "  print(g)\n",
        "j=int(input('Enter the number'))\n",
        "print(fact(j))"
      ],
      "metadata": {
        "colab": {
          "base_uri": "https://localhost:8080/"
        },
        "id": "49yx0gi5faI7",
        "outputId": "7b7e3134-e06f-4272-d781-e4c0cce60c5e"
      },
      "execution_count": 30,
      "outputs": [
        {
          "output_type": "stream",
          "name": "stdout",
          "text": [
            "Enter the number5\n",
            "20\n",
            "None\n"
          ]
        }
      ]
    },
    {
      "cell_type": "code",
      "source": [],
      "metadata": {
        "id": "T835NZUtf_bV"
      },
      "execution_count": null,
      "outputs": []
    }
  ]
}