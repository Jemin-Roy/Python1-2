{
  "nbformat": 4,
  "nbformat_minor": 0,
  "metadata": {
    "colab": {
      "provenance": []
    },
    "kernelspec": {
      "name": "python3",
      "display_name": "Python 3"
    },
    "language_info": {
      "name": "python"
    }
  },
  "cells": [
    {
      "cell_type": "markdown",
      "source": [
        "Write a Python program which accepts the radius of a circle from the user and compute the area."
      ],
      "metadata": {
        "id": "Mv5EcgZQ5Pq9"
      }
    },
    {
      "cell_type": "code",
      "execution_count": null,
      "metadata": {
        "colab": {
          "base_uri": "https://localhost:8080/"
        },
        "id": "6ucBAK1NZZ43",
        "outputId": "fe786565-76a3-46a0-da3b-38515a3590c0"
      },
      "outputs": [
        {
          "output_type": "stream",
          "name": "stdout",
          "text": [
            "Enter the radius of the circle3\n",
            "Area of the circle is: 28.274333882308138\n"
          ]
        }
      ],
      "source": [
        "import math as M\n",
        "radius=float(input('Enter the radius of the circle'))\n",
        "Area=(M.pi*radius*radius)\n",
        "print('Area of the circle is:',Area)\n"
      ]
    },
    {
      "cell_type": "markdown",
      "source": [
        "Write a Python Program to accept the details of a student like name, roll number and mark and display it."
      ],
      "metadata": {
        "id": "AeJBsx4vakGv"
      }
    },
    {
      "cell_type": "code",
      "source": [
        "import pandas as pd\n"
      ],
      "metadata": {
        "id": "pkqsVZghbvW_"
      },
      "execution_count": null,
      "outputs": []
    },
    {
      "cell_type": "code",
      "source": [
        "#dataframe\n",
        "name=['Anisha']\n",
        "roll_no=['21']\n",
        "mark=['78']"
      ],
      "metadata": {
        "id": "gEPltX-zee52"
      },
      "execution_count": null,
      "outputs": []
    },
    {
      "cell_type": "code",
      "source": [
        "data=pd.DataFrame({'Names':name,\n",
        "'Roll_No':roll_no,\n",
        "'Mark':mark})\n",
        "data"
      ],
      "metadata": {
        "colab": {
          "base_uri": "https://localhost:8080/",
          "height": 89
        },
        "id": "vrTWIbAhfeaq",
        "outputId": "6aa9b313-fb09-4c27-c062-bb3aeed0799a"
      },
      "execution_count": null,
      "outputs": [
        {
          "output_type": "execute_result",
          "data": {
            "text/plain": [
              "    Names Roll_No Mark\n",
              "0  Anisha      21   78"
            ],
            "text/html": [
              "\n",
              "  <div id=\"df-f76a7906-165d-4a23-a47e-81d11421e6d1\" class=\"colab-df-container\">\n",
              "    <div>\n",
              "<style scoped>\n",
              "    .dataframe tbody tr th:only-of-type {\n",
              "        vertical-align: middle;\n",
              "    }\n",
              "\n",
              "    .dataframe tbody tr th {\n",
              "        vertical-align: top;\n",
              "    }\n",
              "\n",
              "    .dataframe thead th {\n",
              "        text-align: right;\n",
              "    }\n",
              "</style>\n",
              "<table border=\"1\" class=\"dataframe\">\n",
              "  <thead>\n",
              "    <tr style=\"text-align: right;\">\n",
              "      <th></th>\n",
              "      <th>Names</th>\n",
              "      <th>Roll_No</th>\n",
              "      <th>Mark</th>\n",
              "    </tr>\n",
              "  </thead>\n",
              "  <tbody>\n",
              "    <tr>\n",
              "      <th>0</th>\n",
              "      <td>Anisha</td>\n",
              "      <td>21</td>\n",
              "      <td>78</td>\n",
              "    </tr>\n",
              "  </tbody>\n",
              "</table>\n",
              "</div>\n",
              "    <div class=\"colab-df-buttons\">\n",
              "\n",
              "  <div class=\"colab-df-container\">\n",
              "    <button class=\"colab-df-convert\" onclick=\"convertToInteractive('df-f76a7906-165d-4a23-a47e-81d11421e6d1')\"\n",
              "            title=\"Convert this dataframe to an interactive table.\"\n",
              "            style=\"display:none;\">\n",
              "\n",
              "  <svg xmlns=\"http://www.w3.org/2000/svg\" height=\"24px\" viewBox=\"0 -960 960 960\">\n",
              "    <path d=\"M120-120v-720h720v720H120Zm60-500h600v-160H180v160Zm220 220h160v-160H400v160Zm0 220h160v-160H400v160ZM180-400h160v-160H180v160Zm440 0h160v-160H620v160ZM180-180h160v-160H180v160Zm440 0h160v-160H620v160Z\"/>\n",
              "  </svg>\n",
              "    </button>\n",
              "\n",
              "  <style>\n",
              "    .colab-df-container {\n",
              "      display:flex;\n",
              "      gap: 12px;\n",
              "    }\n",
              "\n",
              "    .colab-df-convert {\n",
              "      background-color: #E8F0FE;\n",
              "      border: none;\n",
              "      border-radius: 50%;\n",
              "      cursor: pointer;\n",
              "      display: none;\n",
              "      fill: #1967D2;\n",
              "      height: 32px;\n",
              "      padding: 0 0 0 0;\n",
              "      width: 32px;\n",
              "    }\n",
              "\n",
              "    .colab-df-convert:hover {\n",
              "      background-color: #E2EBFA;\n",
              "      box-shadow: 0px 1px 2px rgba(60, 64, 67, 0.3), 0px 1px 3px 1px rgba(60, 64, 67, 0.15);\n",
              "      fill: #174EA6;\n",
              "    }\n",
              "\n",
              "    .colab-df-buttons div {\n",
              "      margin-bottom: 4px;\n",
              "    }\n",
              "\n",
              "    [theme=dark] .colab-df-convert {\n",
              "      background-color: #3B4455;\n",
              "      fill: #D2E3FC;\n",
              "    }\n",
              "\n",
              "    [theme=dark] .colab-df-convert:hover {\n",
              "      background-color: #434B5C;\n",
              "      box-shadow: 0px 1px 3px 1px rgba(0, 0, 0, 0.15);\n",
              "      filter: drop-shadow(0px 1px 2px rgba(0, 0, 0, 0.3));\n",
              "      fill: #FFFFFF;\n",
              "    }\n",
              "  </style>\n",
              "\n",
              "    <script>\n",
              "      const buttonEl =\n",
              "        document.querySelector('#df-f76a7906-165d-4a23-a47e-81d11421e6d1 button.colab-df-convert');\n",
              "      buttonEl.style.display =\n",
              "        google.colab.kernel.accessAllowed ? 'block' : 'none';\n",
              "\n",
              "      async function convertToInteractive(key) {\n",
              "        const element = document.querySelector('#df-f76a7906-165d-4a23-a47e-81d11421e6d1');\n",
              "        const dataTable =\n",
              "          await google.colab.kernel.invokeFunction('convertToInteractive',\n",
              "                                                    [key], {});\n",
              "        if (!dataTable) return;\n",
              "\n",
              "        const docLinkHtml = 'Like what you see? Visit the ' +\n",
              "          '<a target=\"_blank\" href=https://colab.research.google.com/notebooks/data_table.ipynb>data table notebook</a>'\n",
              "          + ' to learn more about interactive tables.';\n",
              "        element.innerHTML = '';\n",
              "        dataTable['output_type'] = 'display_data';\n",
              "        await google.colab.output.renderOutput(dataTable, element);\n",
              "        const docLink = document.createElement('div');\n",
              "        docLink.innerHTML = docLinkHtml;\n",
              "        element.appendChild(docLink);\n",
              "      }\n",
              "    </script>\n",
              "  </div>\n",
              "\n",
              "\n",
              "  <div id=\"id_0e76d42d-338b-42ab-ad6b-5a9b61e08a5e\">\n",
              "    <style>\n",
              "      .colab-df-generate {\n",
              "        background-color: #E8F0FE;\n",
              "        border: none;\n",
              "        border-radius: 50%;\n",
              "        cursor: pointer;\n",
              "        display: none;\n",
              "        fill: #1967D2;\n",
              "        height: 32px;\n",
              "        padding: 0 0 0 0;\n",
              "        width: 32px;\n",
              "      }\n",
              "\n",
              "      .colab-df-generate:hover {\n",
              "        background-color: #E2EBFA;\n",
              "        box-shadow: 0px 1px 2px rgba(60, 64, 67, 0.3), 0px 1px 3px 1px rgba(60, 64, 67, 0.15);\n",
              "        fill: #174EA6;\n",
              "      }\n",
              "\n",
              "      [theme=dark] .colab-df-generate {\n",
              "        background-color: #3B4455;\n",
              "        fill: #D2E3FC;\n",
              "      }\n",
              "\n",
              "      [theme=dark] .colab-df-generate:hover {\n",
              "        background-color: #434B5C;\n",
              "        box-shadow: 0px 1px 3px 1px rgba(0, 0, 0, 0.15);\n",
              "        filter: drop-shadow(0px 1px 2px rgba(0, 0, 0, 0.3));\n",
              "        fill: #FFFFFF;\n",
              "      }\n",
              "    </style>\n",
              "    <button class=\"colab-df-generate\" onclick=\"generateWithVariable('data')\"\n",
              "            title=\"Generate code using this dataframe.\"\n",
              "            style=\"display:none;\">\n",
              "\n",
              "  <svg xmlns=\"http://www.w3.org/2000/svg\" height=\"24px\"viewBox=\"0 0 24 24\"\n",
              "       width=\"24px\">\n",
              "    <path d=\"M7,19H8.4L18.45,9,17,7.55,7,17.6ZM5,21V16.75L18.45,3.32a2,2,0,0,1,2.83,0l1.4,1.43a1.91,1.91,0,0,1,.58,1.4,1.91,1.91,0,0,1-.58,1.4L9.25,21ZM18.45,9,17,7.55Zm-12,3A5.31,5.31,0,0,0,4.9,8.1,5.31,5.31,0,0,0,1,6.5,5.31,5.31,0,0,0,4.9,4.9,5.31,5.31,0,0,0,6.5,1,5.31,5.31,0,0,0,8.1,4.9,5.31,5.31,0,0,0,12,6.5,5.46,5.46,0,0,0,6.5,12Z\"/>\n",
              "  </svg>\n",
              "    </button>\n",
              "    <script>\n",
              "      (() => {\n",
              "      const buttonEl =\n",
              "        document.querySelector('#id_0e76d42d-338b-42ab-ad6b-5a9b61e08a5e button.colab-df-generate');\n",
              "      buttonEl.style.display =\n",
              "        google.colab.kernel.accessAllowed ? 'block' : 'none';\n",
              "\n",
              "      buttonEl.onclick = () => {\n",
              "        google.colab.notebook.generateWithVariable('data');\n",
              "      }\n",
              "      })();\n",
              "    </script>\n",
              "  </div>\n",
              "\n",
              "    </div>\n",
              "  </div>\n"
            ],
            "application/vnd.google.colaboratory.intrinsic+json": {
              "type": "dataframe",
              "variable_name": "data",
              "summary": "{\n  \"name\": \"data\",\n  \"rows\": 1,\n  \"fields\": [\n    {\n      \"column\": \"Names\",\n      \"properties\": {\n        \"dtype\": \"string\",\n        \"num_unique_values\": 1,\n        \"samples\": [\n          \"Anisha\"\n        ],\n        \"semantic_type\": \"\",\n        \"description\": \"\"\n      }\n    },\n    {\n      \"column\": \"Roll_No\",\n      \"properties\": {\n        \"dtype\": \"string\",\n        \"num_unique_values\": 1,\n        \"samples\": [\n          \"21\"\n        ],\n        \"semantic_type\": \"\",\n        \"description\": \"\"\n      }\n    },\n    {\n      \"column\": \"Mark\",\n      \"properties\": {\n        \"dtype\": \"string\",\n        \"num_unique_values\": 1,\n        \"samples\": [\n          \"78\"\n        ],\n        \"semantic_type\": \"\",\n        \"description\": \"\"\n      }\n    }\n  ]\n}"
            }
          },
          "metadata": {},
          "execution_count": 21
        }
      ]
    },
    {
      "cell_type": "markdown",
      "source": [
        "Write a Python program to get the largest number from a list."
      ],
      "metadata": {
        "id": "DQmRNjxld86T"
      }
    },
    {
      "cell_type": "code",
      "source": [
        "import math\n",
        "list1=[]\n",
        "num=int(input('Enter the limit:'))\n",
        "for i in range(1,num+1):\n",
        "  elements=int(input('Enter the element'))\n",
        "  list1.append(elements)\n",
        "print('The largest number is:',max(list1))"
      ],
      "metadata": {
        "id": "JHNzTyY8fcwB",
        "colab": {
          "base_uri": "https://localhost:8080/"
        },
        "outputId": "b472490d-b344-4f91-8820-68d88b41ff06"
      },
      "execution_count": null,
      "outputs": [
        {
          "output_type": "stream",
          "name": "stdout",
          "text": [
            "Enter the limit:4\n",
            "Enter the element12\n",
            "Enter the element3\n",
            "Enter the element47\n",
            "Enter the element10\n",
            "The largest number is: 47\n"
          ]
        }
      ]
    },
    {
      "cell_type": "markdown",
      "source": [
        "Given a range of first 10 numbers, write a Python program to iterate from start number to the end number and print the sum of the current number and previous number."
      ],
      "metadata": {
        "id": "b1ANz7wmDL0L"
      }
    },
    {
      "cell_type": "code",
      "source": [
        "for i in range (1,10):\n",
        "  k=i-1\n",
        "  print('previous number',k)\n",
        "  print('current number',i)\n",
        "  sum=k+i\n",
        "  print('The sum is:',sum)"
      ],
      "metadata": {
        "colab": {
          "base_uri": "https://localhost:8080/"
        },
        "id": "EVNMJQWbDOhw",
        "outputId": "9d6c66ea-9ab3-4bb8-ce5f-3e3575dc4f69"
      },
      "execution_count": null,
      "outputs": [
        {
          "output_type": "stream",
          "name": "stdout",
          "text": [
            "previous number 0\n",
            "current number 1\n",
            "The sum is: 1\n",
            "previous number 1\n",
            "current number 2\n",
            "The sum is: 3\n",
            "previous number 2\n",
            "current number 3\n",
            "The sum is: 5\n",
            "previous number 3\n",
            "current number 4\n",
            "The sum is: 7\n",
            "previous number 4\n",
            "current number 5\n",
            "The sum is: 9\n",
            "previous number 5\n",
            "current number 6\n",
            "The sum is: 11\n",
            "previous number 6\n",
            "current number 7\n",
            "The sum is: 13\n",
            "previous number 7\n",
            "current number 8\n",
            "The sum is: 15\n",
            "previous number 8\n",
            "current number 9\n",
            "The sum is: 17\n"
          ]
        }
      ]
    },
    {
      "cell_type": "markdown",
      "source": [
        "Write a Python program to print only those numbers which are divisible of 5."
      ],
      "metadata": {
        "id": "RY5bZAG9DS9l"
      }
    },
    {
      "cell_type": "code",
      "source": [
        "import math\n",
        "num=int(input('Enter the limit'))\n",
        "list2=[]\n",
        "for i in range(num):\n",
        "  elements=int(input('Enter the elements:'))\n",
        "  list2.append(elements)\n",
        "for i in list2:\n",
        "  if(i%5==0):\n",
        "    print(i)\n"
      ],
      "metadata": {
        "colab": {
          "base_uri": "https://localhost:8080/"
        },
        "id": "2WAzGr5nDSGH",
        "outputId": "c7bcbb12-526c-40ee-e4fc-486ec5830acf"
      },
      "execution_count": null,
      "outputs": [
        {
          "output_type": "stream",
          "name": "stdout",
          "text": [
            "Enter the limit4\n",
            "Enter the elements:3\n",
            "Enter the elements:5\n",
            "Enter the elements:10\n",
            "Enter the elements:13\n",
            "5\n",
            "10\n"
          ]
        }
      ]
    },
    {
      "cell_type": "markdown",
      "source": [
        "Write a Python program to check whether a number is prime or not."
      ],
      "metadata": {
        "id": "RRmJIzsoGTuR"
      }
    },
    {
      "cell_type": "code",
      "source": [
        "i=0\n",
        "num=int(input('Enter a number'))\n",
        "if(num%2==0):\n",
        "  print('Its not a prime number')\n",
        "else:\n",
        "   print('It is a prime number')\n"
      ],
      "metadata": {
        "colab": {
          "base_uri": "https://localhost:8080/"
        },
        "id": "sK6z_tErD4x4",
        "outputId": "bb1aae1e-99d6-41b9-ade1-090c4df1f6e8"
      },
      "execution_count": null,
      "outputs": [
        {
          "output_type": "stream",
          "name": "stdout",
          "text": [
            "Enter a number3\n",
            "It is a prime number\n"
          ]
        }
      ]
    },
    {
      "cell_type": "markdown",
      "source": [
        "7. Write a Python program to reverse a list using for loop."
      ],
      "metadata": {
        "id": "LdkXeUiCYkHU"
      }
    },
    {
      "cell_type": "code",
      "source": [
        "from collections.abc import Reversible\n",
        "listl=[]\n",
        "num=int(input('Enter the limit'))\n",
        "for i in range(num):\n",
        "  values=int(input('Enter the elements:'))\n",
        "  listl.append(values)\n",
        "  print(listl)\n",
        "\n",
        "\n"
      ],
      "metadata": {
        "colab": {
          "base_uri": "https://localhost:8080/"
        },
        "id": "qJgkFjqmWUXy",
        "outputId": "347a3429-2b83-4810-ded1-6aa53751fff4"
      },
      "execution_count": null,
      "outputs": [
        {
          "output_type": "stream",
          "name": "stdout",
          "text": [
            "Enter the limit2\n",
            "Enter the elements:1\n",
            "Enter the elements:2\n",
            "[1] <built-in method reverse of list object at 0x7ab9e1c373c0>\n",
            "[1, 2] <built-in method reverse of list object at 0x7ab9e1c373c0>\n"
          ]
        }
      ]
    },
    {
      "cell_type": "markdown",
      "source": [
        "Write a Python program to print the following pattern"
      ],
      "metadata": {
        "id": "SOjWcUn8fa6U"
      }
    },
    {
      "cell_type": "code",
      "source": [
        "def print_pattern(n):\n",
        "  if n>0:\n",
        "    print_pattern(n-1)\n",
        "    print('*' *n)\n",
        "rows=int(input('Enter the number of rows of the pattern'))\n",
        "print_pattern(rows)\n"
      ],
      "metadata": {
        "colab": {
          "base_uri": "https://localhost:8080/"
        },
        "id": "QnLjUeyXcXf1",
        "outputId": "90ab6f58-6649-4d36-b8cd-1e4bbd05d106"
      },
      "execution_count": 3,
      "outputs": [
        {
          "output_type": "stream",
          "name": "stdout",
          "text": [
            "Enter the number of rows of the pattern4\n",
            "*\n",
            "**\n",
            "***\n",
            "****\n"
          ]
        }
      ]
    },
    {
      "cell_type": "markdown",
      "source": [
        "Write a Python program to find the maximum of three numbers"
      ],
      "metadata": {
        "id": "PqKrCQ0eiEJV"
      }
    },
    {
      "cell_type": "code",
      "source": [
        "\n",
        "\n",
        "list1=[]\n",
        "num=int(input('Enter the limit:'))\n",
        "for i in range(1,num+1):\n",
        "  elements=int(input('Enter the element'))\n",
        "  list1.append(elements)\n",
        "print('The largest number is:',max(list1))\n"
      ],
      "metadata": {
        "id": "IwOaecEBeJJD",
        "colab": {
          "base_uri": "https://localhost:8080/"
        },
        "outputId": "63abbb03-27b0-4a38-d148-200840943ba4"
      },
      "execution_count": 1,
      "outputs": [
        {
          "output_type": "stream",
          "name": "stdout",
          "text": [
            "Enter the limit:3\n",
            "Enter the element34\n",
            "Enter the element12\n",
            "Enter the element7\n",
            "The largest number is: 34\n"
          ]
        }
      ]
    },
    {
      "cell_type": "code",
      "source": [],
      "metadata": {
        "id": "lGWYb_nXP6O-"
      },
      "execution_count": null,
      "outputs": []
    }
  ]
}